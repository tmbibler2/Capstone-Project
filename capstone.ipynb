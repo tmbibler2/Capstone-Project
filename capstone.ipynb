{
 "cells": [
  {
   "cell_type": "code",
   "execution_count": 8,
   "id": "c54cfddd",
   "metadata": {},
   "outputs": [],
   "source": [
    "import pandas as pd"
   ]
  },
  {
   "cell_type": "code",
   "execution_count": 14,
   "id": "db82e49d",
   "metadata": {},
   "outputs": [],
   "source": [
    "import numpy as np"
   ]
  },
  {
   "cell_type": "code",
   "execution_count": 11,
   "id": "0d0cbcbb",
   "metadata": {},
   "outputs": [],
   "source": [
    "deaths = pd.read_csv(r\"C:\\Users\\tmbib\\AppData\\Local\\Programs\\Python\\drug_deaths.csv\")"
   ]
  },
  {
   "cell_type": "code",
   "execution_count": 12,
   "id": "a22fca4c",
   "metadata": {},
   "outputs": [
    {
     "data": {
      "text/html": [
       "<div>\n",
       "<style scoped>\n",
       "    .dataframe tbody tr th:only-of-type {\n",
       "        vertical-align: middle;\n",
       "    }\n",
       "\n",
       "    .dataframe tbody tr th {\n",
       "        vertical-align: top;\n",
       "    }\n",
       "\n",
       "    .dataframe thead th {\n",
       "        text-align: right;\n",
       "    }\n",
       "</style>\n",
       "<table border=\"1\" class=\"dataframe\">\n",
       "  <thead>\n",
       "    <tr style=\"text-align: right;\">\n",
       "      <th></th>\n",
       "      <th>Unnamed: 0</th>\n",
       "      <th>deaths_20</th>\n",
       "      <th>deaths_19</th>\n",
       "      <th>deaths_18</th>\n",
       "      <th>deaths_17</th>\n",
       "      <th>deaths_16</th>\n",
       "    </tr>\n",
       "  </thead>\n",
       "  <tbody>\n",
       "    <tr>\n",
       "      <th>count</th>\n",
       "      <td>51.000000</td>\n",
       "      <td>51.000000</td>\n",
       "      <td>51.000000</td>\n",
       "      <td>51.000000</td>\n",
       "      <td>51.000000</td>\n",
       "      <td>51.000000</td>\n",
       "    </tr>\n",
       "    <tr>\n",
       "      <th>mean</th>\n",
       "      <td>26.000000</td>\n",
       "      <td>1345.686275</td>\n",
       "      <td>977.647059</td>\n",
       "      <td>917.686275</td>\n",
       "      <td>933.274510</td>\n",
       "      <td>828.372549</td>\n",
       "    </tr>\n",
       "    <tr>\n",
       "      <th>std</th>\n",
       "      <td>14.866069</td>\n",
       "      <td>1399.674226</td>\n",
       "      <td>1005.368824</td>\n",
       "      <td>933.433458</td>\n",
       "      <td>971.678508</td>\n",
       "      <td>846.704080</td>\n",
       "    </tr>\n",
       "    <tr>\n",
       "      <th>min</th>\n",
       "      <td>1.000000</td>\n",
       "      <td>46.000000</td>\n",
       "      <td>39.000000</td>\n",
       "      <td>28.000000</td>\n",
       "      <td>35.000000</td>\n",
       "      <td>42.000000</td>\n",
       "    </tr>\n",
       "    <tr>\n",
       "      <th>25%</th>\n",
       "      <td>13.500000</td>\n",
       "      <td>325.500000</td>\n",
       "      <td>241.500000</td>\n",
       "      <td>199.500000</td>\n",
       "      <td>225.000000</td>\n",
       "      <td>181.500000</td>\n",
       "    </tr>\n",
       "    <tr>\n",
       "      <th>50%</th>\n",
       "      <td>26.000000</td>\n",
       "      <td>945.000000</td>\n",
       "      <td>558.000000</td>\n",
       "      <td>444.000000</td>\n",
       "      <td>456.000000</td>\n",
       "      <td>466.000000</td>\n",
       "    </tr>\n",
       "    <tr>\n",
       "      <th>75%</th>\n",
       "      <td>38.500000</td>\n",
       "      <td>1981.000000</td>\n",
       "      <td>1393.500000</td>\n",
       "      <td>1250.000000</td>\n",
       "      <td>1255.000000</td>\n",
       "      <td>1158.000000</td>\n",
       "    </tr>\n",
       "    <tr>\n",
       "      <th>max</th>\n",
       "      <td>51.000000</td>\n",
       "      <td>5508.000000</td>\n",
       "      <td>3771.000000</td>\n",
       "      <td>3237.000000</td>\n",
       "      <td>4293.000000</td>\n",
       "      <td>3613.000000</td>\n",
       "    </tr>\n",
       "  </tbody>\n",
       "</table>\n",
       "</div>"
      ],
      "text/plain": [
       "       Unnamed: 0    deaths_20    deaths_19    deaths_18    deaths_17  \\\n",
       "count   51.000000    51.000000    51.000000    51.000000    51.000000   \n",
       "mean    26.000000  1345.686275   977.647059   917.686275   933.274510   \n",
       "std     14.866069  1399.674226  1005.368824   933.433458   971.678508   \n",
       "min      1.000000    46.000000    39.000000    28.000000    35.000000   \n",
       "25%     13.500000   325.500000   241.500000   199.500000   225.000000   \n",
       "50%     26.000000   945.000000   558.000000   444.000000   456.000000   \n",
       "75%     38.500000  1981.000000  1393.500000  1250.000000  1255.000000   \n",
       "max     51.000000  5508.000000  3771.000000  3237.000000  4293.000000   \n",
       "\n",
       "         deaths_16  \n",
       "count    51.000000  \n",
       "mean    828.372549  \n",
       "std     846.704080  \n",
       "min      42.000000  \n",
       "25%     181.500000  \n",
       "50%     466.000000  \n",
       "75%    1158.000000  \n",
       "max    3613.000000  "
      ]
     },
     "execution_count": 12,
     "metadata": {},
     "output_type": "execute_result"
    }
   ],
   "source": [
    "deaths.describe()"
   ]
  },
  {
   "cell_type": "code",
   "execution_count": 13,
   "id": "dea7228d",
   "metadata": {},
   "outputs": [],
   "source": [
    "deaths = pd.get_dummies(deaths)"
   ]
  },
  {
   "cell_type": "code",
   "execution_count": null,
   "id": "8dee506c",
   "metadata": {},
   "outputs": [],
   "source": []
  }
 ],
 "metadata": {
  "kernelspec": {
   "display_name": "Python 3 (ipykernel)",
   "language": "python",
   "name": "python3"
  },
  "language_info": {
   "codemirror_mode": {
    "name": "ipython",
    "version": 3
   },
   "file_extension": ".py",
   "mimetype": "text/x-python",
   "name": "python",
   "nbconvert_exporter": "python",
   "pygments_lexer": "ipython3",
   "version": "3.10.6"
  }
 },
 "nbformat": 4,
 "nbformat_minor": 5
}
