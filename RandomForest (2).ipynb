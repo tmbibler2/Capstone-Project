{
 "cells": [
  {
   "cell_type": "code",
   "execution_count": 1,
   "id": "c54cfddd",
   "metadata": {},
   "outputs": [],
   "source": [
    "import pandas as pd"
   ]
  },
  {
   "cell_type": "code",
   "execution_count": 2,
   "id": "db82e49d",
   "metadata": {},
   "outputs": [],
   "source": [
    "import numpy as np"
   ]
  },
  {
   "cell_type": "code",
   "execution_count": 3,
   "id": "9f63be1a",
   "metadata": {},
   "outputs": [],
   "source": [
    "from sklearn.model_selection import train_test_split"
   ]
  },
  {
   "cell_type": "code",
   "execution_count": 4,
   "id": "0d0cbcbb",
   "metadata": {},
   "outputs": [],
   "source": [
    "#read in data\n",
    "deaths = pd.read_csv(r\"/Users/trinitybibler/Downloads/drug_deaths.csv\")"
   ]
  },
  {
   "cell_type": "code",
   "execution_count": 6,
   "id": "a22fca4c",
   "metadata": {},
   "outputs": [
    {
     "data": {
      "text/html": [
       "<div>\n",
       "<style scoped>\n",
       "    .dataframe tbody tr th:only-of-type {\n",
       "        vertical-align: middle;\n",
       "    }\n",
       "\n",
       "    .dataframe tbody tr th {\n",
       "        vertical-align: top;\n",
       "    }\n",
       "\n",
       "    .dataframe thead th {\n",
       "        text-align: right;\n",
       "    }\n",
       "</style>\n",
       "<table border=\"1\" class=\"dataframe\">\n",
       "  <thead>\n",
       "    <tr style=\"text-align: right;\">\n",
       "      <th></th>\n",
       "      <th>Unnamed: 0</th>\n",
       "      <th>deaths_20</th>\n",
       "      <th>deaths_19</th>\n",
       "      <th>deaths_18</th>\n",
       "      <th>deaths_17</th>\n",
       "      <th>deaths_16</th>\n",
       "    </tr>\n",
       "  </thead>\n",
       "  <tbody>\n",
       "    <tr>\n",
       "      <th>count</th>\n",
       "      <td>51.000000</td>\n",
       "      <td>51.000000</td>\n",
       "      <td>51.000000</td>\n",
       "      <td>51.000000</td>\n",
       "      <td>51.000000</td>\n",
       "      <td>51.000000</td>\n",
       "    </tr>\n",
       "    <tr>\n",
       "      <th>mean</th>\n",
       "      <td>26.000000</td>\n",
       "      <td>1345.686275</td>\n",
       "      <td>977.647059</td>\n",
       "      <td>917.686275</td>\n",
       "      <td>933.274510</td>\n",
       "      <td>828.372549</td>\n",
       "    </tr>\n",
       "    <tr>\n",
       "      <th>std</th>\n",
       "      <td>14.866069</td>\n",
       "      <td>1399.674226</td>\n",
       "      <td>1005.368824</td>\n",
       "      <td>933.433458</td>\n",
       "      <td>971.678508</td>\n",
       "      <td>846.704080</td>\n",
       "    </tr>\n",
       "    <tr>\n",
       "      <th>min</th>\n",
       "      <td>1.000000</td>\n",
       "      <td>46.000000</td>\n",
       "      <td>39.000000</td>\n",
       "      <td>28.000000</td>\n",
       "      <td>35.000000</td>\n",
       "      <td>42.000000</td>\n",
       "    </tr>\n",
       "    <tr>\n",
       "      <th>25%</th>\n",
       "      <td>13.500000</td>\n",
       "      <td>325.500000</td>\n",
       "      <td>241.500000</td>\n",
       "      <td>199.500000</td>\n",
       "      <td>225.000000</td>\n",
       "      <td>181.500000</td>\n",
       "    </tr>\n",
       "    <tr>\n",
       "      <th>50%</th>\n",
       "      <td>26.000000</td>\n",
       "      <td>945.000000</td>\n",
       "      <td>558.000000</td>\n",
       "      <td>444.000000</td>\n",
       "      <td>456.000000</td>\n",
       "      <td>466.000000</td>\n",
       "    </tr>\n",
       "    <tr>\n",
       "      <th>75%</th>\n",
       "      <td>38.500000</td>\n",
       "      <td>1981.000000</td>\n",
       "      <td>1393.500000</td>\n",
       "      <td>1250.000000</td>\n",
       "      <td>1255.000000</td>\n",
       "      <td>1158.000000</td>\n",
       "    </tr>\n",
       "    <tr>\n",
       "      <th>max</th>\n",
       "      <td>51.000000</td>\n",
       "      <td>5508.000000</td>\n",
       "      <td>3771.000000</td>\n",
       "      <td>3237.000000</td>\n",
       "      <td>4293.000000</td>\n",
       "      <td>3613.000000</td>\n",
       "    </tr>\n",
       "  </tbody>\n",
       "</table>\n",
       "</div>"
      ],
      "text/plain": [
       "       Unnamed: 0    deaths_20    deaths_19    deaths_18    deaths_17  \\\n",
       "count   51.000000    51.000000    51.000000    51.000000    51.000000   \n",
       "mean    26.000000  1345.686275   977.647059   917.686275   933.274510   \n",
       "std     14.866069  1399.674226  1005.368824   933.433458   971.678508   \n",
       "min      1.000000    46.000000    39.000000    28.000000    35.000000   \n",
       "25%     13.500000   325.500000   241.500000   199.500000   225.000000   \n",
       "50%     26.000000   945.000000   558.000000   444.000000   456.000000   \n",
       "75%     38.500000  1981.000000  1393.500000  1250.000000  1255.000000   \n",
       "max     51.000000  5508.000000  3771.000000  3237.000000  4293.000000   \n",
       "\n",
       "         deaths_16  \n",
       "count    51.000000  \n",
       "mean    828.372549  \n",
       "std     846.704080  \n",
       "min      42.000000  \n",
       "25%     181.500000  \n",
       "50%     466.000000  \n",
       "75%    1158.000000  \n",
       "max    3613.000000  "
      ]
     },
     "execution_count": 6,
     "metadata": {},
     "output_type": "execute_result"
    }
   ],
   "source": [
    "#summary statistics of data\n",
    "deaths.describe()"
   ]
  },
  {
   "cell_type": "code",
   "execution_count": 8,
   "id": "8dee506c",
   "metadata": {},
   "outputs": [],
   "source": [
    "#create arrays from data\n",
    "l = np.array(deaths['deaths_20'])\n",
    "deaths = deaths.drop('deaths_20', axis = 1)\n",
    "death_list = list(deaths.columns)\n",
    "deaths = np.array(deaths)"
   ]
  },
  {
   "cell_type": "code",
   "execution_count": 123,
   "id": "b396a8b0",
   "metadata": {},
   "outputs": [],
   "source": [
    "#split data for use \n",
    "train_deaths, test_deaths, train_l, test_l = train_test_split(deaths, l, test_size = 0.20, random_state = 0)"
   ]
  },
  {
   "cell_type": "code",
   "execution_count": 126,
   "id": "3437a371",
   "metadata": {},
   "outputs": [],
   "source": [
    "from sklearn.ensemble import RandomForestRegressor"
   ]
  },
  {
   "cell_type": "code",
   "execution_count": 127,
   "id": "2d87c5d9",
   "metadata": {},
   "outputs": [
    {
     "data": {
      "text/plain": [
       "RandomForestRegressor(max_depth=20, n_estimators=10000, random_state=0)"
      ]
     },
     "execution_count": 127,
     "metadata": {},
     "output_type": "execute_result"
    }
   ],
   "source": [
    "#train model\n",
    "rf = RandomForestRegressor(n_estimators = 10000, random_state = 0, max_depth = 20)\n",
    "rf.fit(train_deaths, train_l)"
   ]
  },
  {
   "cell_type": "code",
   "execution_count": 128,
   "id": "e23c740b",
   "metadata": {},
   "outputs": [
    {
     "name": "stdout",
     "output_type": "stream",
     "text": [
      "Mean abs error:  125.97\n"
     ]
    }
   ],
   "source": [
    "#calculate predictions\n",
    "pred = rf.predict(test_deaths)\n",
    "errors = abs(pred - test_l)\n",
    "print('Mean abs error: ', round(np.mean(errors), 2))"
   ]
  },
  {
   "cell_type": "code",
   "execution_count": 129,
   "id": "2dedaa0f",
   "metadata": {},
   "outputs": [
    {
     "name": "stdout",
     "output_type": "stream",
     "text": [
      "Accuracy: 93.01 %.\n"
     ]
    }
   ],
   "source": [
    "#calculate accuracy of model\n",
    "mape = 100 * (errors / test_l)\n",
    "\n",
    "accuracy = 100 - np.mean(mape)\n",
    "print('Accuracy:', round(accuracy, 2), '%.')"
   ]
  },
  {
   "cell_type": "code",
   "execution_count": 130,
   "id": "e84b066a",
   "metadata": {},
   "outputs": [],
   "source": [
    "import matplotlib.pyplot as plt\n",
    "%matplotlib inline"
   ]
  },
  {
   "cell_type": "code",
   "execution_count": 135,
   "id": "98800884",
   "metadata": {},
   "outputs": [],
   "source": [
    "data = pd.DataFrame(data = { 'deaths' : l})"
   ]
  },
  {
   "cell_type": "code",
   "execution_count": 136,
   "id": "f3ffe208",
   "metadata": {},
   "outputs": [],
   "source": [
    "pred_data = pd.DataFrame(data = {'pred_deaths': pred})"
   ]
  },
  {
   "cell_type": "code",
   "execution_count": 139,
   "id": "f19a04a4",
   "metadata": {},
   "outputs": [
    {
     "data": {
      "text/plain": [
       "<matplotlib.legend.Legend at 0x7f8757bfe9a0>"
      ]
     },
     "execution_count": 139,
     "metadata": {},
     "output_type": "execute_result"
    },
    {
     "data": {
      "image/png": "[encoded data removed]",
      "text/plain": [
       "<Figure size 432x288 with 1 Axes>"
      ]
     },
     "metadata": {
      "needs_background": "light"
     },
     "output_type": "display_data"
    }
   ],
   "source": [
    "#plot data \n",
    "plt.plot(data['deaths'], color = 'pink', label = 'actual deaths')\n",
    "plt.plot(pred_data['pred_deaths'], color = 'blue', label = 'predicted')\n",
    "plt.xlabel('state')\n",
    "plt.ylabel('deaths')\n",
    "plt.title('actual versus predicted')\n",
    "\n",
    "plt.legend()"
   ]
  },
  {
   "cell_type": "code",
   "execution_count": null,
   "id": "cf731392",
   "metadata": {},
   "outputs": [],
   "source": [
    "#code references: https://towardsdatascience.com/random-forest-in-python-24d0893d51c0"
   ]
  },
  {
   "cell_type": "code",
   "execution_count": null,
   "id": "d3a81e52",
   "metadata": {},
   "outputs": [],
   "source": []
  }
 ],
 "metadata": {
  "kernelspec": {
   "display_name": "Python 3 (ipykernel)",
   "language": "python",
   "name": "python3"
  },
  "language_info": {
   "codemirror_mode": {
    "name": "ipython",
    "version": 3
   },
   "file_extension": ".py",
   "mimetype": "text/x-python",
   "name": "python",
   "nbconvert_exporter": "python",
   "pygments_lexer": "ipython3",
   "version": "3.9.7"
  }
 },
 "nbformat": 4,
 "nbformat_minor": 5
}
